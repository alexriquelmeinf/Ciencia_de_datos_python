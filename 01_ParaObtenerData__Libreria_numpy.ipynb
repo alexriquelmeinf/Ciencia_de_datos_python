{
  "nbformat": 4,
  "nbformat_minor": 0,
  "metadata": {
    "colab": {
      "provenance": [],
      "authorship_tag": "ABX9TyMpGp+M4qpITKMx9XlpbIK0",
      "include_colab_link": true
    },
    "kernelspec": {
      "name": "python3",
      "display_name": "Python 3"
    },
    "language_info": {
      "name": "python"
    }
  },
  "cells": [
    {
      "cell_type": "markdown",
      "metadata": {
        "id": "view-in-github",
        "colab_type": "text"
      },
      "source": [
        "<a href=\"https://colab.research.google.com/github/alexriquelmeinf/Ciencia_de_datos_python/blob/main/01_ParaObtenerData__Libreria_numpy.ipynb\" target=\"_parent\"><img src=\"https://colab.research.google.com/assets/colab-badge.svg\" alt=\"Open In Colab\"/></a>"
      ]
    },
    {
      "cell_type": "code",
      "execution_count": 1,
      "metadata": {
        "colab": {
          "base_uri": "https://localhost:8080/"
        },
        "id": "1OAjsSm0Lbx6",
        "outputId": "f548c4de-71ba-428a-ee2e-284ebdeeb11b"
      },
      "outputs": [
        {
          "output_type": "stream",
          "name": "stdout",
          "text": [
            "Cloning into 'Ciencia_de_datos_python'...\n",
            "fatal: could not read Username for 'https://github.com': No such device or address\n"
          ]
        }
      ],
      "source": [
        "!git clone https://github.com/alexriquelmeinf/Ciencia_de_datos_python.git"
      ]
    },
    {
      "cell_type": "markdown",
      "source": [],
      "metadata": {
        "id": "lt8cjTt0hXjz"
      }
    },
    {
      "cell_type": "markdown",
      "source": [
        "#Test de tiempo de rendimiento arreglo python vs numpy"
      ],
      "metadata": {
        "id": "zpGxiXoZhXxO"
      }
    },
    {
      "cell_type": "code",
      "source": [],
      "metadata": {
        "id": "WaAPSue8jc_8"
      },
      "execution_count": null,
      "outputs": []
    }
  ]
}