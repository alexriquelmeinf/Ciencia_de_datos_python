{
  "nbformat": 4,
  "nbformat_minor": 0,
  "metadata": {
    "colab": {
      "provenance": [],
      "authorship_tag": "ABX9TyOl7+99G1AgAyYEfBMuUZPJ",
      "include_colab_link": true
    },
    "kernelspec": {
      "name": "python3",
      "display_name": "Python 3"
    },
    "language_info": {
      "name": "python"
    }
  },
  "cells": [
    {
      "cell_type": "markdown",
      "metadata": {
        "id": "view-in-github",
        "colab_type": "text"
      },
      "source": [
        "<a href=\"https://colab.research.google.com/github/alexriquelmeinf/Ciencia_de_datos_python/blob/main/SesionAbiertaColab.ipynb\" target=\"_parent\"><img src=\"https://colab.research.google.com/assets/colab-badge.svg\" alt=\"Open In Colab\"/></a>"
      ]
    },
    {
      "cell_type": "code",
      "source": [
        "#Control +shift+i luego ir a consola y pegar el codigo\n",
        "function ClickConnect(){\n",
        "    console.log(\"Working\");\n",
        "    document.querySelector(\"#top-toolbar > colab-connect-button\").shadowRoot.querySelector(\"#connect\").click();\n",
        "}\n",
        "setInterval(ClickConnect,60000)"
      ],
      "metadata": {
        "colab": {
          "base_uri": "https://localhost:8080/",
          "height": 109
        },
        "id": "ii5sTRUpYPlG",
        "outputId": "5ecba2c7-8f1c-4329-8f52-d17c2676d060"
      },
      "execution_count": 3,
      "outputs": [
        {
          "output_type": "error",
          "ename": "SyntaxError",
          "evalue": "invalid syntax (<ipython-input-3-9394a57ce706>, line 1)",
          "traceback": [
            "\u001b[0;36m  File \u001b[0;32m\"<ipython-input-3-9394a57ce706>\"\u001b[0;36m, line \u001b[0;32m1\u001b[0m\n\u001b[0;31m    function ClickConnect(){\u001b[0m\n\u001b[0m             ^\u001b[0m\n\u001b[0;31mSyntaxError\u001b[0m\u001b[0;31m:\u001b[0m invalid syntax\n"
          ]
        }
      ]
    },
    {
      "cell_type": "code",
      "execution_count": 2,
      "metadata": {
        "colab": {
          "base_uri": "https://localhost:8080/",
          "height": 109
        },
        "id": "Xlf7AEW5W4dG",
        "outputId": "ee5bf305-f89c-421c-92f4-bb6dbabcf852"
      },
      "outputs": [
        {
          "output_type": "error",
          "ename": "SyntaxError",
          "evalue": "invalid syntax (<ipython-input-2-5949b1a1325f>, line 1)",
          "traceback": [
            "\u001b[0;36m  File \u001b[0;32m\"<ipython-input-2-5949b1a1325f>\"\u001b[0;36m, line \u001b[0;32m1\u001b[0m\n\u001b[0;31m    function ClickConnect(){\u001b[0m\n\u001b[0m             ^\u001b[0m\n\u001b[0;31mSyntaxError\u001b[0m\u001b[0;31m:\u001b[0m invalid syntax\n"
          ]
        }
      ],
      "source": [
        "#este es otro codigo\n",
        "function clickConnect() {\n",
        "    var iconElement= document.getElementByID(\"toggle-header-button\");\n",
        "    if (iconElement){\n",
        "        var clickEvent = new MouseEvent(\"click\",{\n",
        "            bubbles: true,\n",
        "            cancelable: true,\n",
        "            view: window\n",
        "        });\n",
        "        iconElement.dispatchEvent(clickEvent);\n",
        "\n",
        "    }\n",
        "}\n",
        "setInterval(clickConnect,6000);"
      ]
    }
  ]
}